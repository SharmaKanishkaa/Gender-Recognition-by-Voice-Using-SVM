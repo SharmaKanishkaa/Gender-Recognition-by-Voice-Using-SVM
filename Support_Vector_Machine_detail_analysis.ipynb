{
  "metadata": {
    "kernelspec": {
      "display_name": "Python 3",
      "language": "python",
      "name": "python3"
    },
    "language_info": {
      "name": "python",
      "version": "3.10.14",
      "mimetype": "text/x-python",
      "codemirror_mode": {
        "name": "ipython",
        "version": 3
      },
      "pygments_lexer": "ipython3",
      "nbconvert_exporter": "python",
      "file_extension": ".py"
    },
    "_change_revision": 0,
    "_is_fork": false,
    "kaggle": {
      "accelerator": "none",
      "dataSources": [
        {
          "sourceId": 276,
          "sourceType": "datasetVersion",
          "datasetId": 134
        }
      ],
      "dockerImageVersionId": 30786,
      "isInternetEnabled": false,
      "language": "python",
      "sourceType": "notebook",
      "isGpuEnabled": false
    },
    "colab": {
      "name": "Support Vector Machine detail analysis",
      "provenance": [],
      "include_colab_link": true
    }
  },
  "nbformat_minor": 0,
  "nbformat": 4,
  "cells": [
    {
      "cell_type": "markdown",
      "metadata": {
        "id": "view-in-github",
        "colab_type": "text"
      },
      "source": [
        "<a href=\"https://colab.research.google.com/github/SharmaKanishkaa/Gender-Recognition-by-Voice-Using-SVM/blob/main/Support_Vector_Machine_detail_analysis.ipynb\" target=\"_parent\"><img src=\"https://colab.research.google.com/assets/colab-badge.svg\" alt=\"Open In Colab\"/></a>"
      ]
    },
    {
      "cell_type": "markdown",
      "source": [
        "# Importing all the necessary libraries"
      ],
      "metadata": {
        "_cell_guid": "cd01fe18-db57-3da4-2916-f99e096988ac",
        "id": "wYBqtTSH-sJx"
      }
    },
    {
      "cell_type": "code",
      "source": [
        "import pandas as pd\n",
        "import numpy as np\n",
        "import seaborn as sns\n",
        "\n",
        "import matplotlib.pyplot as plt\n",
        "\n",
        "%matplotlib inline"
      ],
      "metadata": {
        "_cell_guid": "0247ac12-6357-659f-0182-36d245e9b551",
        "trusted": true,
        "execution": {
          "iopub.status.busy": "2024-11-24T06:50:27.01999Z",
          "iopub.execute_input": "2024-11-24T06:50:27.020402Z",
          "iopub.status.idle": "2024-11-24T06:50:29.961578Z",
          "shell.execute_reply.started": "2024-11-24T06:50:27.020363Z",
          "shell.execute_reply": "2024-11-24T06:50:29.960267Z"
        },
        "id": "d0saw6rz-sJz"
      },
      "outputs": [],
      "execution_count": null
    },
    {
      "cell_type": "markdown",
      "source": [
        "# Reading the comma separated values file into the dataframe"
      ],
      "metadata": {
        "_cell_guid": "0200d0e4-320f-2822-88a9-f6c0225658e6",
        "id": "gteLxWQ6-sJ0"
      }
    },
    {
      "cell_type": "code",
      "source": [
        "df = pd.read_csv('../input/voice.csv')\n",
        "df.head()"
      ],
      "metadata": {
        "_cell_guid": "2e847afc-36c5-b7bb-78c6-4288f847868e",
        "trusted": true,
        "execution": {
          "iopub.status.busy": "2024-11-24T06:50:29.963678Z",
          "iopub.execute_input": "2024-11-24T06:50:29.964166Z",
          "iopub.status.idle": "2024-11-24T06:50:30.065868Z",
          "shell.execute_reply.started": "2024-11-24T06:50:29.964123Z",
          "shell.execute_reply": "2024-11-24T06:50:30.064503Z"
        },
        "id": "AXBYq53I-sJ0",
        "outputId": "599487ef-ed36-4f32-a15c-80ceb51543f2"
      },
      "outputs": [
        {
          "execution_count": 2,
          "output_type": "execute_result",
          "data": {
            "text/plain": "   meanfreq        sd    median       Q25       Q75       IQR       skew  \\\n0  0.059781  0.064241  0.032027  0.015071  0.090193  0.075122  12.863462   \n1  0.066009  0.067310  0.040229  0.019414  0.092666  0.073252  22.423285   \n2  0.077316  0.083829  0.036718  0.008701  0.131908  0.123207  30.757155   \n3  0.151228  0.072111  0.158011  0.096582  0.207955  0.111374   1.232831   \n4  0.135120  0.079146  0.124656  0.078720  0.206045  0.127325   1.101174   \n\n          kurt    sp.ent       sfm  ...  centroid   meanfun    minfun  \\\n0   274.402906  0.893369  0.491918  ...  0.059781  0.084279  0.015702   \n1   634.613855  0.892193  0.513724  ...  0.066009  0.107937  0.015826   \n2  1024.927705  0.846389  0.478905  ...  0.077316  0.098706  0.015656   \n3     4.177296  0.963322  0.727232  ...  0.151228  0.088965  0.017798   \n4     4.333713  0.971955  0.783568  ...  0.135120  0.106398  0.016931   \n\n     maxfun   meandom    mindom    maxdom   dfrange   modindx  label  \n0  0.275862  0.007812  0.007812  0.007812  0.000000  0.000000   male  \n1  0.250000  0.009014  0.007812  0.054688  0.046875  0.052632   male  \n2  0.271186  0.007990  0.007812  0.015625  0.007812  0.046512   male  \n3  0.250000  0.201497  0.007812  0.562500  0.554688  0.247119   male  \n4  0.266667  0.712812  0.007812  5.484375  5.476562  0.208274   male  \n\n[5 rows x 21 columns]",
            "text/html": "<div>\n<style scoped>\n    .dataframe tbody tr th:only-of-type {\n        vertical-align: middle;\n    }\n\n    .dataframe tbody tr th {\n        vertical-align: top;\n    }\n\n    .dataframe thead th {\n        text-align: right;\n    }\n</style>\n<table border=\"1\" class=\"dataframe\">\n  <thead>\n    <tr style=\"text-align: right;\">\n      <th></th>\n      <th>meanfreq</th>\n      <th>sd</th>\n      <th>median</th>\n      <th>Q25</th>\n      <th>Q75</th>\n      <th>IQR</th>\n      <th>skew</th>\n      <th>kurt</th>\n      <th>sp.ent</th>\n      <th>sfm</th>\n      <th>...</th>\n      <th>centroid</th>\n      <th>meanfun</th>\n      <th>minfun</th>\n      <th>maxfun</th>\n      <th>meandom</th>\n      <th>mindom</th>\n      <th>maxdom</th>\n      <th>dfrange</th>\n      <th>modindx</th>\n      <th>label</th>\n    </tr>\n  </thead>\n  <tbody>\n    <tr>\n      <th>0</th>\n      <td>0.059781</td>\n      <td>0.064241</td>\n      <td>0.032027</td>\n      <td>0.015071</td>\n      <td>0.090193</td>\n      <td>0.075122</td>\n      <td>12.863462</td>\n      <td>274.402906</td>\n      <td>0.893369</td>\n      <td>0.491918</td>\n      <td>...</td>\n      <td>0.059781</td>\n      <td>0.084279</td>\n      <td>0.015702</td>\n      <td>0.275862</td>\n      <td>0.007812</td>\n      <td>0.007812</td>\n      <td>0.007812</td>\n      <td>0.000000</td>\n      <td>0.000000</td>\n      <td>male</td>\n    </tr>\n    <tr>\n      <th>1</th>\n      <td>0.066009</td>\n      <td>0.067310</td>\n      <td>0.040229</td>\n      <td>0.019414</td>\n      <td>0.092666</td>\n      <td>0.073252</td>\n      <td>22.423285</td>\n      <td>634.613855</td>\n      <td>0.892193</td>\n      <td>0.513724</td>\n      <td>...</td>\n      <td>0.066009</td>\n      <td>0.107937</td>\n      <td>0.015826</td>\n      <td>0.250000</td>\n      <td>0.009014</td>\n      <td>0.007812</td>\n      <td>0.054688</td>\n      <td>0.046875</td>\n      <td>0.052632</td>\n      <td>male</td>\n    </tr>\n    <tr>\n      <th>2</th>\n      <td>0.077316</td>\n      <td>0.083829</td>\n      <td>0.036718</td>\n      <td>0.008701</td>\n      <td>0.131908</td>\n      <td>0.123207</td>\n      <td>30.757155</td>\n      <td>1024.927705</td>\n      <td>0.846389</td>\n      <td>0.478905</td>\n      <td>...</td>\n      <td>0.077316</td>\n      <td>0.098706</td>\n      <td>0.015656</td>\n      <td>0.271186</td>\n      <td>0.007990</td>\n      <td>0.007812</td>\n      <td>0.015625</td>\n      <td>0.007812</td>\n      <td>0.046512</td>\n      <td>male</td>\n    </tr>\n    <tr>\n      <th>3</th>\n      <td>0.151228</td>\n      <td>0.072111</td>\n      <td>0.158011</td>\n      <td>0.096582</td>\n      <td>0.207955</td>\n      <td>0.111374</td>\n      <td>1.232831</td>\n      <td>4.177296</td>\n      <td>0.963322</td>\n      <td>0.727232</td>\n      <td>...</td>\n      <td>0.151228</td>\n      <td>0.088965</td>\n      <td>0.017798</td>\n      <td>0.250000</td>\n      <td>0.201497</td>\n      <td>0.007812</td>\n      <td>0.562500</td>\n      <td>0.554688</td>\n      <td>0.247119</td>\n      <td>male</td>\n    </tr>\n    <tr>\n      <th>4</th>\n      <td>0.135120</td>\n      <td>0.079146</td>\n      <td>0.124656</td>\n      <td>0.078720</td>\n      <td>0.206045</td>\n      <td>0.127325</td>\n      <td>1.101174</td>\n      <td>4.333713</td>\n      <td>0.971955</td>\n      <td>0.783568</td>\n      <td>...</td>\n      <td>0.135120</td>\n      <td>0.106398</td>\n      <td>0.016931</td>\n      <td>0.266667</td>\n      <td>0.712812</td>\n      <td>0.007812</td>\n      <td>5.484375</td>\n      <td>5.476562</td>\n      <td>0.208274</td>\n      <td>male</td>\n    </tr>\n  </tbody>\n</table>\n<p>5 rows × 21 columns</p>\n</div>"
          },
          "metadata": {}
        }
      ],
      "execution_count": null
    },
    {
      "cell_type": "markdown",
      "source": [
        "# Checking the correlation between each feature"
      ],
      "metadata": {
        "_cell_guid": "2d654f09-1018-5498-e4ea-428752a19d4b",
        "id": "sc4oYolo-sJ1"
      }
    },
    {
      "cell_type": "code",
      "source": [
        "df.corr()"
      ],
      "metadata": {
        "_cell_guid": "8c9f6f78-3e24-bb65-8270-f9a795441d5e",
        "trusted": true,
        "execution": {
          "iopub.status.busy": "2024-11-24T06:50:30.067747Z",
          "iopub.execute_input": "2024-11-24T06:50:30.069367Z",
          "iopub.status.idle": "2024-11-24T06:50:31.180248Z",
          "shell.execute_reply.started": "2024-11-24T06:50:30.0693Z",
          "shell.execute_reply": "2024-11-24T06:50:31.176265Z"
        },
        "id": "DHSqQP7u-sJ2",
        "outputId": "23437c3d-3fb6-4eac-a492-54b8c8bb219e"
      },
      "outputs": [
        {
          "traceback": [
            "\u001b[0;31m---------------------------------------------------------------------------\u001b[0m",
            "\u001b[0;31mValueError\u001b[0m                                Traceback (most recent call last)",
            "Cell \u001b[0;32mIn[3], line 1\u001b[0m\n\u001b[0;32m----> 1\u001b[0m \u001b[43mdf\u001b[49m\u001b[38;5;241;43m.\u001b[39;49m\u001b[43mcorr\u001b[49m\u001b[43m(\u001b[49m\u001b[43m)\u001b[49m\n",
            "File \u001b[0;32m/opt/conda/lib/python3.10/site-packages/pandas/core/frame.py:11049\u001b[0m, in \u001b[0;36mDataFrame.corr\u001b[0;34m(self, method, min_periods, numeric_only)\u001b[0m\n\u001b[1;32m  11047\u001b[0m cols \u001b[38;5;241m=\u001b[39m data\u001b[38;5;241m.\u001b[39mcolumns\n\u001b[1;32m  11048\u001b[0m idx \u001b[38;5;241m=\u001b[39m cols\u001b[38;5;241m.\u001b[39mcopy()\n\u001b[0;32m> 11049\u001b[0m mat \u001b[38;5;241m=\u001b[39m \u001b[43mdata\u001b[49m\u001b[38;5;241;43m.\u001b[39;49m\u001b[43mto_numpy\u001b[49m\u001b[43m(\u001b[49m\u001b[43mdtype\u001b[49m\u001b[38;5;241;43m=\u001b[39;49m\u001b[38;5;28;43mfloat\u001b[39;49m\u001b[43m,\u001b[49m\u001b[43m \u001b[49m\u001b[43mna_value\u001b[49m\u001b[38;5;241;43m=\u001b[39;49m\u001b[43mnp\u001b[49m\u001b[38;5;241;43m.\u001b[39;49m\u001b[43mnan\u001b[49m\u001b[43m,\u001b[49m\u001b[43m \u001b[49m\u001b[43mcopy\u001b[49m\u001b[38;5;241;43m=\u001b[39;49m\u001b[38;5;28;43;01mFalse\u001b[39;49;00m\u001b[43m)\u001b[49m\n\u001b[1;32m  11051\u001b[0m \u001b[38;5;28;01mif\u001b[39;00m method \u001b[38;5;241m==\u001b[39m \u001b[38;5;124m\"\u001b[39m\u001b[38;5;124mpearson\u001b[39m\u001b[38;5;124m\"\u001b[39m:\n\u001b[1;32m  11052\u001b[0m     correl \u001b[38;5;241m=\u001b[39m libalgos\u001b[38;5;241m.\u001b[39mnancorr(mat, minp\u001b[38;5;241m=\u001b[39mmin_periods)\n",
            "File \u001b[0;32m/opt/conda/lib/python3.10/site-packages/pandas/core/frame.py:1993\u001b[0m, in \u001b[0;36mDataFrame.to_numpy\u001b[0;34m(self, dtype, copy, na_value)\u001b[0m\n\u001b[1;32m   1991\u001b[0m \u001b[38;5;28;01mif\u001b[39;00m dtype \u001b[38;5;129;01mis\u001b[39;00m \u001b[38;5;129;01mnot\u001b[39;00m \u001b[38;5;28;01mNone\u001b[39;00m:\n\u001b[1;32m   1992\u001b[0m     dtype \u001b[38;5;241m=\u001b[39m np\u001b[38;5;241m.\u001b[39mdtype(dtype)\n\u001b[0;32m-> 1993\u001b[0m result \u001b[38;5;241m=\u001b[39m \u001b[38;5;28;43mself\u001b[39;49m\u001b[38;5;241;43m.\u001b[39;49m\u001b[43m_mgr\u001b[49m\u001b[38;5;241;43m.\u001b[39;49m\u001b[43mas_array\u001b[49m\u001b[43m(\u001b[49m\u001b[43mdtype\u001b[49m\u001b[38;5;241;43m=\u001b[39;49m\u001b[43mdtype\u001b[49m\u001b[43m,\u001b[49m\u001b[43m \u001b[49m\u001b[43mcopy\u001b[49m\u001b[38;5;241;43m=\u001b[39;49m\u001b[43mcopy\u001b[49m\u001b[43m,\u001b[49m\u001b[43m \u001b[49m\u001b[43mna_value\u001b[49m\u001b[38;5;241;43m=\u001b[39;49m\u001b[43mna_value\u001b[49m\u001b[43m)\u001b[49m\n\u001b[1;32m   1994\u001b[0m \u001b[38;5;28;01mif\u001b[39;00m result\u001b[38;5;241m.\u001b[39mdtype \u001b[38;5;129;01mis\u001b[39;00m \u001b[38;5;129;01mnot\u001b[39;00m dtype:\n\u001b[1;32m   1995\u001b[0m     result \u001b[38;5;241m=\u001b[39m np\u001b[38;5;241m.\u001b[39masarray(result, dtype\u001b[38;5;241m=\u001b[39mdtype)\n",
            "File \u001b[0;32m/opt/conda/lib/python3.10/site-packages/pandas/core/internals/managers.py:1694\u001b[0m, in \u001b[0;36mBlockManager.as_array\u001b[0;34m(self, dtype, copy, na_value)\u001b[0m\n\u001b[1;32m   1692\u001b[0m         arr\u001b[38;5;241m.\u001b[39mflags\u001b[38;5;241m.\u001b[39mwriteable \u001b[38;5;241m=\u001b[39m \u001b[38;5;28;01mFalse\u001b[39;00m\n\u001b[1;32m   1693\u001b[0m \u001b[38;5;28;01melse\u001b[39;00m:\n\u001b[0;32m-> 1694\u001b[0m     arr \u001b[38;5;241m=\u001b[39m \u001b[38;5;28;43mself\u001b[39;49m\u001b[38;5;241;43m.\u001b[39;49m\u001b[43m_interleave\u001b[49m\u001b[43m(\u001b[49m\u001b[43mdtype\u001b[49m\u001b[38;5;241;43m=\u001b[39;49m\u001b[43mdtype\u001b[49m\u001b[43m,\u001b[49m\u001b[43m \u001b[49m\u001b[43mna_value\u001b[49m\u001b[38;5;241;43m=\u001b[39;49m\u001b[43mna_value\u001b[49m\u001b[43m)\u001b[49m\n\u001b[1;32m   1695\u001b[0m     \u001b[38;5;66;03m# The underlying data was copied within _interleave, so no need\u001b[39;00m\n\u001b[1;32m   1696\u001b[0m     \u001b[38;5;66;03m# to further copy if copy=True or setting na_value\u001b[39;00m\n\u001b[1;32m   1698\u001b[0m \u001b[38;5;28;01mif\u001b[39;00m na_value \u001b[38;5;129;01mis\u001b[39;00m lib\u001b[38;5;241m.\u001b[39mno_default:\n",
            "File \u001b[0;32m/opt/conda/lib/python3.10/site-packages/pandas/core/internals/managers.py:1753\u001b[0m, in \u001b[0;36mBlockManager._interleave\u001b[0;34m(self, dtype, na_value)\u001b[0m\n\u001b[1;32m   1751\u001b[0m     \u001b[38;5;28;01melse\u001b[39;00m:\n\u001b[1;32m   1752\u001b[0m         arr \u001b[38;5;241m=\u001b[39m blk\u001b[38;5;241m.\u001b[39mget_values(dtype)\n\u001b[0;32m-> 1753\u001b[0m     \u001b[43mresult\u001b[49m\u001b[43m[\u001b[49m\u001b[43mrl\u001b[49m\u001b[38;5;241;43m.\u001b[39;49m\u001b[43mindexer\u001b[49m\u001b[43m]\u001b[49m \u001b[38;5;241m=\u001b[39m arr\n\u001b[1;32m   1754\u001b[0m     itemmask[rl\u001b[38;5;241m.\u001b[39mindexer] \u001b[38;5;241m=\u001b[39m \u001b[38;5;241m1\u001b[39m\n\u001b[1;32m   1756\u001b[0m \u001b[38;5;28;01mif\u001b[39;00m \u001b[38;5;129;01mnot\u001b[39;00m itemmask\u001b[38;5;241m.\u001b[39mall():\n",
            "\u001b[0;31mValueError\u001b[0m: could not convert string to float: 'male'"
          ],
          "ename": "ValueError",
          "evalue": "could not convert string to float: 'male'",
          "output_type": "error"
        }
      ],
      "execution_count": null
    },
    {
      "cell_type": "markdown",
      "source": [
        "# Checking whether there is any null values"
      ],
      "metadata": {
        "_cell_guid": "51c112a4-8b80-2a6a-5688-825581b9c1dd",
        "id": "q8SSVCdV-sJ3"
      }
    },
    {
      "cell_type": "code",
      "source": [
        "df.isnull().sum()"
      ],
      "metadata": {
        "_cell_guid": "af637554-1c8d-cdf4-c76e-6429511dbcf7",
        "trusted": true,
        "execution": {
          "iopub.status.busy": "2024-11-24T06:50:31.18194Z",
          "iopub.status.idle": "2024-11-24T06:50:31.182375Z",
          "shell.execute_reply.started": "2024-11-24T06:50:31.182164Z",
          "shell.execute_reply": "2024-11-24T06:50:31.182207Z"
        },
        "id": "97Xtoo2R-sJ4"
      },
      "outputs": [],
      "execution_count": null
    },
    {
      "cell_type": "code",
      "source": [
        "df.shape"
      ],
      "metadata": {
        "_cell_guid": "da3a570c-0527-1f21-a980-edebea590239",
        "trusted": true,
        "execution": {
          "iopub.status.busy": "2024-11-24T06:50:31.183577Z",
          "iopub.status.idle": "2024-11-24T06:50:31.184032Z",
          "shell.execute_reply.started": "2024-11-24T06:50:31.183803Z",
          "shell.execute_reply": "2024-11-24T06:50:31.183823Z"
        },
        "id": "cS9FE02N-sJ5"
      },
      "outputs": [],
      "execution_count": null
    },
    {
      "cell_type": "code",
      "source": [
        "print(\"Total number of labels: {}\".format(df.shape[0]))\n",
        "print(\"Number of male: {}\".format(df[df.label == 'male'].shape[0]))\n",
        "print(\"Number of female: {}\".format(df[df.label == 'female'].shape[0]))"
      ],
      "metadata": {
        "_cell_guid": "fe354f60-1504-a06e-9675-c80c755bf66f",
        "trusted": true,
        "execution": {
          "iopub.status.busy": "2024-11-24T06:50:31.18541Z",
          "iopub.status.idle": "2024-11-24T06:50:31.185873Z",
          "shell.execute_reply.started": "2024-11-24T06:50:31.185658Z",
          "shell.execute_reply": "2024-11-24T06:50:31.185679Z"
        },
        "id": "uv3dlfdL-sJ5"
      },
      "outputs": [],
      "execution_count": null
    },
    {
      "cell_type": "markdown",
      "source": [
        "Thus we can see there are equal number of male and female labels"
      ],
      "metadata": {
        "_cell_guid": "af99e2cb-9132-7c97-3dce-6a81c6b85bb9",
        "id": "LnPo7jO8-sJ6"
      }
    },
    {
      "cell_type": "code",
      "source": [
        "df.shape"
      ],
      "metadata": {
        "_cell_guid": "78f518d5-a32d-376f-d132-1250bd0b7544",
        "trusted": true,
        "execution": {
          "iopub.status.busy": "2024-11-24T06:50:31.18734Z",
          "iopub.status.idle": "2024-11-24T06:50:31.187759Z",
          "shell.execute_reply.started": "2024-11-24T06:50:31.187573Z",
          "shell.execute_reply": "2024-11-24T06:50:31.187594Z"
        },
        "id": "-Mi-xH1c-sJ6"
      },
      "outputs": [],
      "execution_count": null
    },
    {
      "cell_type": "markdown",
      "source": [
        "There are 21 features and 3168 instances."
      ],
      "metadata": {
        "_cell_guid": "85fbbf85-f199-9528-8147-7583154c4c6e",
        "id": "lbCHK7E7-sJ7"
      }
    },
    {
      "cell_type": "markdown",
      "source": [
        "# Separating features and labels"
      ],
      "metadata": {
        "_cell_guid": "35926698-93b2-6af7-7647-20e876461359",
        "id": "KPJjxfmC-sJ7"
      }
    },
    {
      "cell_type": "code",
      "source": [
        "X=df.iloc[:, :-1]\n",
        "X.head()"
      ],
      "metadata": {
        "_cell_guid": "36d5feea-f653-99c9-aa5d-a60c9f0d20f8",
        "trusted": true,
        "execution": {
          "iopub.status.busy": "2024-11-24T06:50:31.188942Z",
          "iopub.status.idle": "2024-11-24T06:50:31.189332Z",
          "shell.execute_reply.started": "2024-11-24T06:50:31.189155Z",
          "shell.execute_reply": "2024-11-24T06:50:31.189174Z"
        },
        "id": "srlaLdRb-sJ8"
      },
      "outputs": [],
      "execution_count": null
    },
    {
      "cell_type": "markdown",
      "source": [
        "# Converting string value to int type for labels"
      ],
      "metadata": {
        "_cell_guid": "eabb15db-3594-8ad5-2a5b-10527ac27b88",
        "id": "x1Ue7Yvd-sJ8"
      }
    },
    {
      "cell_type": "code",
      "source": [
        "from sklearn.preprocessing import LabelEncoder\n",
        "y=df.iloc[:,-1]\n",
        "\n",
        "# Encode label category\n",
        "# male -> 1\n",
        "# female -> 0\n",
        "\n",
        "gender_encoder = LabelEncoder()\n",
        "y = gender_encoder.fit_transform(y)\n",
        "y"
      ],
      "metadata": {
        "_cell_guid": "d4681c81-0d46-deac-48a8-8238f7fe330c",
        "trusted": true,
        "execution": {
          "iopub.status.busy": "2024-11-24T06:50:31.191136Z",
          "iopub.status.idle": "2024-11-24T06:50:31.191548Z",
          "shell.execute_reply.started": "2024-11-24T06:50:31.191339Z",
          "shell.execute_reply": "2024-11-24T06:50:31.191358Z"
        },
        "id": "NKwTGh6Z-sJ8"
      },
      "outputs": [],
      "execution_count": null
    },
    {
      "cell_type": "markdown",
      "source": [
        "# Data Standardisation\n",
        "Standardization refers to shifting the distribution of each attribute to have a mean of zero and a standard deviation of one (unit variance). It is useful to standardize attributes for a model. Standardization of datasets is a common requirement for many machine learning estimators implemented in scikit-learn; they might behave badly if the individual features do not more or less look like standard normally distributed data."
      ],
      "metadata": {
        "_cell_guid": "c4badc10-5597-845a-85e2-c8cbf4c3e0d4",
        "id": "dPhQwFtq-sJ8"
      }
    },
    {
      "cell_type": "code",
      "source": [
        "# Scale the data to be between -1 and 1\n",
        "from sklearn.preprocessing import StandardScaler\n",
        "scaler = StandardScaler()\n",
        "scaler.fit(X)\n",
        "X = scaler.transform(X)"
      ],
      "metadata": {
        "_cell_guid": "3c999a7a-cded-223a-3b4f-55ee8fbbdb7e",
        "trusted": true,
        "execution": {
          "iopub.status.busy": "2024-11-24T06:50:31.193121Z",
          "iopub.status.idle": "2024-11-24T06:50:31.193548Z",
          "shell.execute_reply.started": "2024-11-24T06:50:31.193337Z",
          "shell.execute_reply": "2024-11-24T06:50:31.193356Z"
        },
        "id": "O1rAOW-P-sJ9"
      },
      "outputs": [],
      "execution_count": null
    },
    {
      "cell_type": "markdown",
      "source": [
        "# Splitting dataset into training set and testing set for better generalisation"
      ],
      "metadata": {
        "_cell_guid": "31ce4128-0a4a-ae10-3a25-1c362398295c",
        "id": "uDqF6Vat-sJ9"
      }
    },
    {
      "cell_type": "code",
      "source": [
        "from sklearn.model_selection import train_test_split\n",
        "X_train, X_test, y_train, y_test = train_test_split(X, y, test_size=0.2, random_state=1)"
      ],
      "metadata": {
        "_cell_guid": "ea416e41-d033-34de-6e28-5725be182435",
        "trusted": true,
        "execution": {
          "iopub.status.busy": "2024-11-24T06:50:31.195079Z",
          "iopub.status.idle": "2024-11-24T06:50:31.195452Z",
          "shell.execute_reply.started": "2024-11-24T06:50:31.195277Z",
          "shell.execute_reply": "2024-11-24T06:50:31.195293Z"
        },
        "id": "qWZ0lV5J-sJ9"
      },
      "outputs": [],
      "execution_count": null
    },
    {
      "cell_type": "markdown",
      "source": [
        "# Running SVM with default hyperparameter."
      ],
      "metadata": {
        "_cell_guid": "416eb826-73fc-bbd2-0676-2a803ae9327b",
        "id": "-ldgMxyw-sJ9"
      }
    },
    {
      "cell_type": "code",
      "source": [
        "from sklearn.svm import SVC\n",
        "from sklearn import metrics\n",
        "svc=SVC() #Default hyperparameters\n",
        "svc.fit(X_train,y_train)\n",
        "y_pred=svc.predict(X_test)\n",
        "print('Accuracy Score:')\n",
        "print(metrics.accuracy_score(y_test,y_pred))"
      ],
      "metadata": {
        "_cell_guid": "05ccf988-5612-03ac-5d2f-122baa32ab19",
        "trusted": true,
        "execution": {
          "iopub.status.busy": "2024-11-24T06:50:31.196892Z",
          "iopub.status.idle": "2024-11-24T06:50:31.1973Z",
          "shell.execute_reply.started": "2024-11-24T06:50:31.197091Z",
          "shell.execute_reply": "2024-11-24T06:50:31.197139Z"
        },
        "id": "pE6-Zo_B-sJ9"
      },
      "outputs": [],
      "execution_count": null
    },
    {
      "cell_type": "markdown",
      "source": [
        "# Default Linear kernel"
      ],
      "metadata": {
        "_cell_guid": "e5548edc-79be-2f23-a994-ddb73e82ee22",
        "id": "aCfbU5nh-sJ9"
      }
    },
    {
      "cell_type": "code",
      "source": [
        "svc=SVC(kernel='linear')\n",
        "svc.fit(X_train,y_train)\n",
        "y_pred=svc.predict(X_test)\n",
        "print('Accuracy Score:')\n",
        "print(metrics.accuracy_score(y_test,y_pred))"
      ],
      "metadata": {
        "_cell_guid": "fd19993f-2f0d-c9da-e944-3206e6a292c0",
        "trusted": true,
        "execution": {
          "iopub.status.busy": "2024-11-24T06:50:31.199425Z",
          "iopub.status.idle": "2024-11-24T06:50:31.199824Z",
          "shell.execute_reply.started": "2024-11-24T06:50:31.199652Z",
          "shell.execute_reply": "2024-11-24T06:50:31.199671Z"
        },
        "id": "IviR7SRE-sJ-"
      },
      "outputs": [],
      "execution_count": null
    },
    {
      "cell_type": "markdown",
      "source": [
        "# Default RBF kernel"
      ],
      "metadata": {
        "_cell_guid": "12039039-6d6e-915c-d213-50c102eb3c09",
        "id": "LInf3NvO-sJ-"
      }
    },
    {
      "cell_type": "code",
      "source": [
        "svc=SVC(kernel='rbf')\n",
        "svc.fit(X_train,y_train)\n",
        "y_pred=svc.predict(X_test)\n",
        "print('Accuracy Score:')\n",
        "print(metrics.accuracy_score(y_test,y_pred))"
      ],
      "metadata": {
        "_cell_guid": "61a30229-7028-815d-631f-1b24343da1b3",
        "trusted": true,
        "execution": {
          "iopub.status.busy": "2024-11-24T06:50:31.201158Z",
          "iopub.status.idle": "2024-11-24T06:50:31.201578Z",
          "shell.execute_reply.started": "2024-11-24T06:50:31.201364Z",
          "shell.execute_reply": "2024-11-24T06:50:31.201384Z"
        },
        "id": "IxyHiFyy-sJ-"
      },
      "outputs": [],
      "execution_count": null
    },
    {
      "cell_type": "markdown",
      "source": [
        "We can conclude from above that svm by default uses **rbf** kernel as a parameter for kernel"
      ],
      "metadata": {
        "_cell_guid": "200005e4-4577-0fc3-e833-a438cbf5ceff",
        "id": "4BTl1389-sJ-"
      }
    },
    {
      "cell_type": "markdown",
      "source": [
        "# Default Polynomial kernel"
      ],
      "metadata": {
        "_cell_guid": "3392a4d6-6ed0-49d0-7868-038f2489e8c8",
        "id": "_M7v1D0M-sJ-"
      }
    },
    {
      "cell_type": "code",
      "source": [
        "svc=SVC(kernel='poly')\n",
        "svc.fit(X_train,y_train)\n",
        "y_pred=svc.predict(X_test)\n",
        "print('Accuracy Score:')\n",
        "print(metrics.accuracy_score(y_test,y_pred))"
      ],
      "metadata": {
        "_cell_guid": "8a705a2e-0d6f-6d2a-45fd-358513529f75",
        "trusted": true,
        "execution": {
          "iopub.status.busy": "2024-11-24T06:50:31.203685Z",
          "iopub.status.idle": "2024-11-24T06:50:31.204057Z",
          "shell.execute_reply.started": "2024-11-24T06:50:31.203889Z",
          "shell.execute_reply": "2024-11-24T06:50:31.203907Z"
        },
        "id": "zvCf9hCl-sJ-"
      },
      "outputs": [],
      "execution_count": null
    },
    {
      "cell_type": "markdown",
      "source": [
        "Polynomial kernel is performing poorly.The reason behind this maybe it is overfitting the training dataset"
      ],
      "metadata": {
        "_cell_guid": "fc3a244d-4ef3-34f4-eb3a-3286772145b2",
        "id": "JrNxpLsd-sJ_"
      }
    },
    {
      "cell_type": "markdown",
      "source": [
        "# Performing K-fold cross validation with different kernels"
      ],
      "metadata": {
        "_cell_guid": "a54fb78f-de14-da2f-fe18-605b3f5180d5",
        "id": "CbMPJg0h-sJ_"
      }
    },
    {
      "cell_type": "markdown",
      "source": [
        "# CV on Linear kernel"
      ],
      "metadata": {
        "_cell_guid": "ad1fe233-c013-d253-9596-f23e1a11c347",
        "id": "AvozSGRF-sJ_"
      }
    },
    {
      "cell_type": "code",
      "source": [
        "from sklearn.cross_validation import cross_val_score\n",
        "svc=SVC(kernel='linear')\n",
        "scores = cross_val_score(svc, X, y, cv=10, scoring='accuracy') #cv is cross validation\n",
        "print(scores)"
      ],
      "metadata": {
        "_cell_guid": "25f97e10-5a1c-103a-4be1-f9d766ade49d",
        "trusted": true,
        "execution": {
          "iopub.status.busy": "2024-11-24T06:50:31.205567Z",
          "iopub.status.idle": "2024-11-24T06:50:31.206151Z",
          "shell.execute_reply.started": "2024-11-24T06:50:31.205857Z",
          "shell.execute_reply": "2024-11-24T06:50:31.205885Z"
        },
        "id": "HPfZF6s0-sJ_"
      },
      "outputs": [],
      "execution_count": null
    },
    {
      "cell_type": "markdown",
      "source": [
        "We can see above how the accuracy score is different everytime.This shows that accuracy score depends upon how the datasets got split."
      ],
      "metadata": {
        "_cell_guid": "f1e11e9e-0d61-70cb-8d80-3c31fcce6cef",
        "id": "h4VuS4Py-sJ_"
      }
    },
    {
      "cell_type": "code",
      "source": [
        "print(scores.mean())"
      ],
      "metadata": {
        "_cell_guid": "a2e7ab72-5fa9-3e54-d59c-b2b4c24ed7dc",
        "trusted": true,
        "execution": {
          "iopub.status.busy": "2024-11-24T06:50:31.207522Z",
          "iopub.status.idle": "2024-11-24T06:50:31.208054Z",
          "shell.execute_reply.started": "2024-11-24T06:50:31.207784Z",
          "shell.execute_reply": "2024-11-24T06:50:31.207811Z"
        },
        "id": "Rkiub1Te-sKA"
      },
      "outputs": [],
      "execution_count": null
    },
    {
      "cell_type": "markdown",
      "source": [
        "In K-fold cross validation we generally take the mean of all the scores."
      ],
      "metadata": {
        "_cell_guid": "6d61c1df-0285-0a0e-64ad-c2bef642e15d",
        "id": "n2nHNnd8-sKA"
      }
    },
    {
      "cell_type": "markdown",
      "source": [
        "# CV on rbf kernel"
      ],
      "metadata": {
        "_cell_guid": "5236f0a2-7d83-d6cb-fb88-2aacf70fea4c",
        "id": "lPEr2Sfm-sKA"
      }
    },
    {
      "cell_type": "code",
      "source": [
        "from sklearn.cross_validation import cross_val_score\n",
        "svc=SVC(kernel='rbf')\n",
        "scores = cross_val_score(svc, X, y, cv=10, scoring='accuracy') #cv is cross validation\n",
        "print(scores)"
      ],
      "metadata": {
        "_cell_guid": "e7015bbc-ea05-d4e9-c50b-ee48149fd2bf",
        "trusted": true,
        "execution": {
          "iopub.status.busy": "2024-11-24T06:50:31.209206Z",
          "iopub.status.idle": "2024-11-24T06:50:31.209604Z",
          "shell.execute_reply.started": "2024-11-24T06:50:31.209392Z",
          "shell.execute_reply": "2024-11-24T06:50:31.209409Z"
        },
        "id": "-IWGayB3-sKG"
      },
      "outputs": [],
      "execution_count": null
    },
    {
      "cell_type": "code",
      "source": [
        "print(scores.mean())"
      ],
      "metadata": {
        "_cell_guid": "fb9609a2-6e5c-4a8f-e273-12916ea7215f",
        "trusted": true,
        "execution": {
          "iopub.status.busy": "2024-11-24T06:50:31.210767Z",
          "iopub.status.idle": "2024-11-24T06:50:31.211173Z",
          "shell.execute_reply.started": "2024-11-24T06:50:31.210991Z",
          "shell.execute_reply": "2024-11-24T06:50:31.21101Z"
        },
        "id": "CpgwC1mT-sKG"
      },
      "outputs": [],
      "execution_count": null
    },
    {
      "cell_type": "markdown",
      "source": [
        "# CV on Polynomial kernel"
      ],
      "metadata": {
        "_cell_guid": "9e261f77-d75e-f6f5-833b-a30a9feee04d",
        "id": "qM6AOU7H-sKG"
      }
    },
    {
      "cell_type": "code",
      "source": [
        "from sklearn.cross_validation import cross_val_score\n",
        "svc=SVC(kernel='poly')\n",
        "scores = cross_val_score(svc, X, y, cv=10, scoring='accuracy') #cv is cross validation\n",
        "print(scores)"
      ],
      "metadata": {
        "_cell_guid": "fd133fd6-c088-6803-8d59-5e5739674689",
        "trusted": true,
        "execution": {
          "iopub.status.busy": "2024-11-24T06:50:31.213531Z",
          "iopub.status.idle": "2024-11-24T06:50:31.214104Z",
          "shell.execute_reply.started": "2024-11-24T06:50:31.213812Z",
          "shell.execute_reply": "2024-11-24T06:50:31.213841Z"
        },
        "id": "WjLn-h93-sKG"
      },
      "outputs": [],
      "execution_count": null
    },
    {
      "cell_type": "code",
      "source": [
        "print(scores.mean())"
      ],
      "metadata": {
        "_cell_guid": "e07031f3-a32c-46e3-7cce-ba873870f3fe",
        "trusted": true,
        "execution": {
          "iopub.status.busy": "2024-11-24T06:50:31.215996Z",
          "iopub.status.idle": "2024-11-24T06:50:31.216562Z",
          "shell.execute_reply.started": "2024-11-24T06:50:31.216263Z",
          "shell.execute_reply": "2024-11-24T06:50:31.21629Z"
        },
        "id": "4DyvmYcS-sKH"
      },
      "outputs": [],
      "execution_count": null
    },
    {
      "cell_type": "markdown",
      "source": [
        "**When K-fold cross validation is done we can see different score in each iteration.This happens because when we use train_test_split method,the dataset get split in random manner into testing and training dataset.Thus it depends on how the dataset got split and which samples are training set and which samples are in testing set.**\n",
        "\n",
        "**With K-fold cross validation we can see that the dataset got split into 10 equal parts thus covering all the data into training as well into testing set.This is the reason we got 10 different accuracy score.**"
      ],
      "metadata": {
        "_cell_guid": "7a264296-51e3-904b-ab6b-4f86d0358f53",
        "id": "YddPzPYw-sKH"
      }
    },
    {
      "cell_type": "markdown",
      "source": [
        "### Taking all the values of C and checking out the accuracy score with kernel as linear."
      ],
      "metadata": {
        "_cell_guid": "0912611e-a132-cd7e-edcf-8f63603a7f38",
        "id": "WH3TBgXq-sKH"
      }
    },
    {
      "cell_type": "markdown",
      "source": [
        "**The C parameter tells the SVM optimization how much you want to avoid misclassifying each training example. For large values of C, the optimization will choose a smaller-margin hyperplane if that hyperplane does a better job of getting all the training points classified correctly. Conversely, a very small value of C will cause the optimizer to look for a larger-margin separating hyperplane, even if that hyperplane misclassifies more points.**\n",
        "\n",
        "**Thus for a very large values we can cause overfitting of the model and for a very small value of C we can cause underfitting.Thus the value of C must be chosen in such a manner that it generalised the unseen data well**"
      ],
      "metadata": {
        "_cell_guid": "cad5cfc0-be06-ff7f-bb83-0d8e168d0cbf",
        "id": "-awHimSb-sKH"
      }
    },
    {
      "cell_type": "code",
      "source": [
        "C_range=list(range(1,26))\n",
        "acc_score=[]\n",
        "for c in C_range:\n",
        "    svc = SVC(kernel='linear', C=c)\n",
        "    scores = cross_val_score(svc, X, y, cv=10, scoring='accuracy')\n",
        "    acc_score.append(scores.mean())\n",
        "print(acc_score)\n",
        ""
      ],
      "metadata": {
        "_cell_guid": "75bfb3a4-06d5-c828-23bb-a03ffea9b6c7",
        "trusted": true,
        "execution": {
          "iopub.status.busy": "2024-11-24T06:50:31.21802Z",
          "iopub.status.idle": "2024-11-24T06:50:31.218388Z",
          "shell.execute_reply.started": "2024-11-24T06:50:31.218215Z",
          "shell.execute_reply": "2024-11-24T06:50:31.218233Z"
        },
        "id": "gorQy-Gv-sKH"
      },
      "outputs": [],
      "execution_count": null
    },
    {
      "cell_type": "code",
      "source": [
        "import matplotlib.pyplot as plt\n",
        "%matplotlib inline\n",
        "\n",
        "\n",
        "C_values=list(range(1,26))\n",
        "# plot the value of C for SVM (x-axis) versus the cross-validated accuracy (y-axis)\n",
        "plt.plot(C_values,acc_score)\n",
        "plt.xticks(np.arange(0,27,2))\n",
        "plt.xlabel('Value of C for SVC')\n",
        "plt.ylabel('Cross-Validated Accuracy')"
      ],
      "metadata": {
        "_cell_guid": "d7d004c8-458f-ae86-d777-ab92b253df34",
        "trusted": true,
        "execution": {
          "iopub.status.busy": "2024-11-24T06:50:31.220554Z",
          "iopub.status.idle": "2024-11-24T06:50:31.220967Z",
          "shell.execute_reply.started": "2024-11-24T06:50:31.220766Z",
          "shell.execute_reply": "2024-11-24T06:50:31.220795Z"
        },
        "id": "BnDXNH8n-sKI"
      },
      "outputs": [],
      "execution_count": null
    },
    {
      "cell_type": "markdown",
      "source": [
        "**From the above plot we can see that accuracy has been close to 97% for C=1 and C=6 and then it drops around 96.8% and remains constant.**"
      ],
      "metadata": {
        "_cell_guid": "d9c892c1-0923-a8e3-53bf-40886621828c",
        "id": "vTJFQkQF-sKI"
      }
    },
    {
      "cell_type": "markdown",
      "source": [
        "### Let us look into more detail of what is the exact value of C which is giving us a good accuracy score"
      ],
      "metadata": {
        "_cell_guid": "37666b87-8625-668f-6984-61be1852635b",
        "id": "WMWUUv3G-sKI"
      }
    },
    {
      "cell_type": "code",
      "source": [
        "C_range=list(np.arange(0.1,6,0.1))\n",
        "acc_score=[]\n",
        "for c in C_range:\n",
        "    svc = SVC(kernel='linear', C=c)\n",
        "    scores = cross_val_score(svc, X, y, cv=10, scoring='accuracy')\n",
        "    acc_score.append(scores.mean())\n",
        "print(acc_score)\n",
        ""
      ],
      "metadata": {
        "_cell_guid": "49795d4a-e816-45e5-7404-881df395f894",
        "trusted": true,
        "execution": {
          "iopub.status.busy": "2024-11-24T06:50:31.222498Z",
          "iopub.status.idle": "2024-11-24T06:50:31.222864Z",
          "shell.execute_reply.started": "2024-11-24T06:50:31.222692Z",
          "shell.execute_reply": "2024-11-24T06:50:31.22271Z"
        },
        "id": "FLWYXg__-sKI"
      },
      "outputs": [],
      "execution_count": null
    },
    {
      "cell_type": "code",
      "source": [
        "import matplotlib.pyplot as plt\n",
        "%matplotlib inline\n",
        "\n",
        "C_values=list(np.arange(0.1,6,0.1))\n",
        "# plot the value of C for SVM (x-axis) versus the cross-validated accuracy (y-axis)\n",
        "plt.plot(C_values,acc_score)\n",
        "plt.xticks(np.arange(0.0,6,0.3))\n",
        "plt.xlabel('Value of C for SVC ')\n",
        "plt.ylabel('Cross-Validated Accuracy')"
      ],
      "metadata": {
        "_cell_guid": "ab18923a-5802-45e4-6290-37b6ea89eb86",
        "trusted": true,
        "execution": {
          "iopub.status.busy": "2024-11-24T06:50:31.224225Z",
          "iopub.status.idle": "2024-11-24T06:50:31.224644Z",
          "shell.execute_reply.started": "2024-11-24T06:50:31.224418Z",
          "shell.execute_reply": "2024-11-24T06:50:31.224437Z"
        },
        "id": "0jCHXkin-sKJ"
      },
      "outputs": [],
      "execution_count": null
    },
    {
      "cell_type": "markdown",
      "source": [
        "### Accuracy score is highest for C=0.1."
      ],
      "metadata": {
        "_cell_guid": "d604755b-9603-9f61-d8d7-c533ba9851a9",
        "id": "03LZdLYe-sKJ"
      }
    },
    {
      "cell_type": "markdown",
      "source": [
        "### Taking kernel as **rbf** and taking different values gamma"
      ],
      "metadata": {
        "_cell_guid": "a8d63c32-a177-b287-08c4-f85f144c6324",
        "id": "m7MAWscY-sKJ"
      }
    },
    {
      "cell_type": "markdown",
      "source": [
        "**Technically, the gamma parameter is the inverse of the standard deviation of the RBF kernel (Gaussian function), which is used as similarity measure between two points. Intuitively, a small gamma value define a Gaussian function with a large variance. In this case, two points can be considered similar even if are far from each other. In the other hand, a large gamma value means define a Gaussian function with a small variance and in this case, two points are considered similar just if they are close to each other**"
      ],
      "metadata": {
        "_cell_guid": "dea9c10d-0351-e3fd-0e11-50a7dd18c310",
        "id": "4G63PvdC-sKK"
      }
    },
    {
      "cell_type": "code",
      "source": [
        "gamma_range=[0.0001,0.001,0.01,0.1,1,10,100]\n",
        "acc_score=[]\n",
        "for g in gamma_range:\n",
        "    svc = SVC(kernel='rbf', gamma=g)\n",
        "    scores = cross_val_score(svc, X, y, cv=10, scoring='accuracy')\n",
        "    acc_score.append(scores.mean())\n",
        "print(acc_score)\n",
        ""
      ],
      "metadata": {
        "_cell_guid": "282b0fe3-0b34-d692-7412-8acab5711326",
        "trusted": true,
        "execution": {
          "iopub.status.busy": "2024-11-24T06:50:31.226102Z",
          "iopub.status.idle": "2024-11-24T06:50:31.226465Z",
          "shell.execute_reply.started": "2024-11-24T06:50:31.226293Z",
          "shell.execute_reply": "2024-11-24T06:50:31.226311Z"
        },
        "id": "E0A6y24P-sKK"
      },
      "outputs": [],
      "execution_count": null
    },
    {
      "cell_type": "code",
      "source": [
        "import matplotlib.pyplot as plt\n",
        "%matplotlib inline\n",
        "\n",
        "gamma_range=[0.0001,0.001,0.01,0.1,1,10,100]\n",
        "\n",
        "# plot the value of C for SVM (x-axis) versus the cross-validated accuracy (y-axis)\n",
        "plt.plot(gamma_range,acc_score)\n",
        "plt.xlabel('Value of gamma for SVC ')\n",
        "plt.xticks(np.arange(0.0001,100,5))\n",
        "plt.ylabel('Cross-Validated Accuracy')"
      ],
      "metadata": {
        "_cell_guid": "22bc0e0e-fdfc-6c6d-c9c5-8863f818254f",
        "trusted": true,
        "execution": {
          "iopub.status.busy": "2024-11-24T06:50:31.228013Z",
          "iopub.status.idle": "2024-11-24T06:50:31.228632Z",
          "shell.execute_reply.started": "2024-11-24T06:50:31.228321Z",
          "shell.execute_reply": "2024-11-24T06:50:31.228349Z"
        },
        "id": "y5Pu2dWm-sKK"
      },
      "outputs": [],
      "execution_count": null
    },
    {
      "cell_type": "markdown",
      "source": [
        "**We can see that for gamma=10 and 100 the kernel is performing poorly.We can also see a slight dip in accuracy score when gamma is 1.Let us look into more details for the range 0.0001 to 0.1.**"
      ],
      "metadata": {
        "_cell_guid": "15e21695-add0-983e-6a87-c25b98fff692",
        "id": "1zpyYlmX-sKL"
      }
    },
    {
      "cell_type": "code",
      "source": [
        "gamma_range=[0.0001,0.001,0.01,0.1]\n",
        "acc_score=[]\n",
        "for g in gamma_range:\n",
        "    svc = SVC(kernel='rbf', gamma=g)\n",
        "    scores = cross_val_score(svc, X, y, cv=10, scoring='accuracy')\n",
        "    acc_score.append(scores.mean())\n",
        "print(acc_score)\n",
        ""
      ],
      "metadata": {
        "_cell_guid": "4b65f0c1-8753-bc48-efda-03589d3631d5",
        "trusted": true,
        "execution": {
          "iopub.status.busy": "2024-11-24T06:50:31.230334Z",
          "iopub.status.idle": "2024-11-24T06:50:31.230858Z",
          "shell.execute_reply.started": "2024-11-24T06:50:31.230603Z",
          "shell.execute_reply": "2024-11-24T06:50:31.230631Z"
        },
        "id": "IH5nNVTf-sKL"
      },
      "outputs": [],
      "execution_count": null
    },
    {
      "cell_type": "code",
      "source": [
        "import matplotlib.pyplot as plt\n",
        "%matplotlib inline\n",
        "\n",
        "gamma_range=[0.0001,0.001,0.01,0.1]\n",
        "\n",
        "# plot the value of C for SVM (x-axis) versus the cross-validated accuracy (y-axis)\n",
        "plt.plot(gamma_range,acc_score)\n",
        "plt.xlabel('Value of gamma for SVC ')\n",
        "plt.ylabel('Cross-Validated Accuracy')"
      ],
      "metadata": {
        "_cell_guid": "0b8d11a5-d9d2-6272-a94b-e85e747667a1",
        "trusted": true,
        "execution": {
          "iopub.status.busy": "2024-11-24T06:50:31.23261Z",
          "iopub.status.idle": "2024-11-24T06:50:31.233585Z",
          "shell.execute_reply.started": "2024-11-24T06:50:31.233328Z",
          "shell.execute_reply": "2024-11-24T06:50:31.233358Z"
        },
        "id": "GVLPKYAO-sKL"
      },
      "outputs": [],
      "execution_count": null
    },
    {
      "cell_type": "markdown",
      "source": [
        "The score increases steadily and raches its peak at 0.01 and then decreases till gamma=1.Thus Gamma should be around 0.01."
      ],
      "metadata": {
        "_cell_guid": "0708b835-3e46-82dc-c74b-0f6d34d9b51f",
        "id": "oQq5wOvf-sKM"
      }
    },
    {
      "cell_type": "markdown",
      "source": [
        "Let us look into more detail for gamma values"
      ],
      "metadata": {
        "_cell_guid": "90f76105-a03f-0326-9676-46053a98db93",
        "id": "v5L2-nC8-sKM"
      }
    },
    {
      "cell_type": "code",
      "source": [
        "gamma_range=[0.01,0.02,0.03,0.04,0.05]\n",
        "acc_score=[]\n",
        "for g in gamma_range:\n",
        "    svc = SVC(kernel='rbf', gamma=g)\n",
        "    scores = cross_val_score(svc, X, y, cv=10, scoring='accuracy')\n",
        "    acc_score.append(scores.mean())\n",
        "print(acc_score)\n",
        ""
      ],
      "metadata": {
        "_cell_guid": "279aa6b5-1201-e181-1d60-5d48ce6f9abf",
        "trusted": true,
        "execution": {
          "iopub.status.busy": "2024-11-24T06:50:31.235052Z",
          "iopub.status.idle": "2024-11-24T06:50:31.235607Z",
          "shell.execute_reply.started": "2024-11-24T06:50:31.235322Z",
          "shell.execute_reply": "2024-11-24T06:50:31.235349Z"
        },
        "id": "CMNqCHX8-sKM"
      },
      "outputs": [],
      "execution_count": null
    },
    {
      "cell_type": "code",
      "source": [
        "import matplotlib.pyplot as plt\n",
        "%matplotlib inline\n",
        "\n",
        "gamma_range=[0.01,0.02,0.03,0.04,0.05]\n",
        "\n",
        "# plot the value of C for SVM (x-axis) versus the cross-validated accuracy (y-axis)\n",
        "plt.plot(gamma_range,acc_score)\n",
        "plt.xlabel('Value of gamma for SVC ')\n",
        "plt.ylabel('Cross-Validated Accuracy')"
      ],
      "metadata": {
        "_cell_guid": "ad8df21f-7c1d-823d-5696-9ed04ed662d1",
        "trusted": true,
        "execution": {
          "iopub.status.busy": "2024-11-24T06:50:31.237383Z",
          "iopub.status.idle": "2024-11-24T06:50:31.23793Z",
          "shell.execute_reply.started": "2024-11-24T06:50:31.237669Z",
          "shell.execute_reply": "2024-11-24T06:50:31.237696Z"
        },
        "id": "2X0rpgmz-sKM"
      },
      "outputs": [],
      "execution_count": null
    },
    {
      "cell_type": "markdown",
      "source": [
        "**We can see there is constant decrease in the accuracy score as gamma value increase.Thus gamma=0.01 is the best parameter.**"
      ],
      "metadata": {
        "_cell_guid": "651abf9c-4698-9c01-aa2d-cfe3144be51f",
        "id": "4VNbou5o-sKN"
      }
    },
    {
      "cell_type": "markdown",
      "source": [
        "# Taking polynomial kernel with different degree"
      ],
      "metadata": {
        "_cell_guid": "413851c2-7bfd-859e-53a1-75ba442a678c",
        "id": "tiRPoZy5-sKN"
      }
    },
    {
      "cell_type": "code",
      "source": [
        "degree=[2,3,4,5,6]\n",
        "acc_score=[]\n",
        "for d in degree:\n",
        "    svc = SVC(kernel='poly', degree=d)\n",
        "    scores = cross_val_score(svc, X, y, cv=10, scoring='accuracy')\n",
        "    acc_score.append(scores.mean())\n",
        "print(acc_score)\n",
        ""
      ],
      "metadata": {
        "_cell_guid": "71802e03-f3f1-2e7a-0b91-53063605bc5c",
        "trusted": true,
        "execution": {
          "iopub.status.busy": "2024-11-24T06:50:31.244649Z",
          "iopub.status.idle": "2024-11-24T06:50:31.245336Z",
          "shell.execute_reply.started": "2024-11-24T06:50:31.244974Z",
          "shell.execute_reply": "2024-11-24T06:50:31.245009Z"
        },
        "id": "8WUe97h3-sKN"
      },
      "outputs": [],
      "execution_count": null
    },
    {
      "cell_type": "code",
      "source": [
        "import matplotlib.pyplot as plt\n",
        "%matplotlib inline\n",
        "\n",
        "degree=[2,3,4,5,6]\n",
        "\n",
        "# plot the value of C for SVM (x-axis) versus the cross-validated accuracy (y-axis)\n",
        "plt.plot(degree,acc_score,color='r')\n",
        "plt.xlabel('degrees for SVC ')\n",
        "plt.ylabel('Cross-Validated Accuracy')"
      ],
      "metadata": {
        "_cell_guid": "76acd1a6-c10b-beb9-b99b-1986b46b1bc8",
        "trusted": true,
        "execution": {
          "iopub.status.busy": "2024-11-24T06:50:31.247251Z",
          "iopub.status.idle": "2024-11-24T06:50:31.247787Z",
          "shell.execute_reply.started": "2024-11-24T06:50:31.247519Z",
          "shell.execute_reply": "2024-11-24T06:50:31.247545Z"
        },
        "id": "vtNCoS0D-sKN"
      },
      "outputs": [],
      "execution_count": null
    },
    {
      "cell_type": "markdown",
      "source": [
        "**Score is high for third degree polynomial and then there is drop in the accuracy score as degree of polynomial increases.Thus increase in polynomial degree results in high complexity of the model and thus causes overfitting.**"
      ],
      "metadata": {
        "_cell_guid": "0b5454f1-2788-8627-f70e-1556983a82d9",
        "id": "tI1nO0jd-sKO"
      }
    },
    {
      "cell_type": "markdown",
      "source": [
        "# Now performing SVM by taking hyperparameter C=0.1 and kernel as linear\n",
        "\n",
        "\n",
        "----------"
      ],
      "metadata": {
        "_cell_guid": "2143d3d8-4abf-983d-ee4c-cc74f4fde0b7",
        "id": "_POHLjUa-sKO"
      }
    },
    {
      "cell_type": "code",
      "source": [
        "from sklearn.svm import SVC\n",
        "svc= SVC(kernel='linear',C=0.1)\n",
        "svc.fit(X_train,y_train)\n",
        "y_predict=svc.predict(X_test)\n",
        "accuracy_score= metrics.accuracy_score(y_test,y_predict)\n",
        "print(accuracy_score)"
      ],
      "metadata": {
        "_cell_guid": "499ae7bd-c349-3c50-0f6e-3ca8633d0b28",
        "trusted": true,
        "execution": {
          "iopub.status.busy": "2024-11-24T06:50:31.24943Z",
          "iopub.status.idle": "2024-11-24T06:50:31.249884Z",
          "shell.execute_reply.started": "2024-11-24T06:50:31.249695Z",
          "shell.execute_reply": "2024-11-24T06:50:31.249717Z"
        },
        "id": "s5BHLEOk-sKO"
      },
      "outputs": [],
      "execution_count": null
    },
    {
      "cell_type": "markdown",
      "source": [
        "# With K-fold cross validation(where K=10)"
      ],
      "metadata": {
        "_cell_guid": "b4cf3a4a-9f64-5567-3037-bc2719ae098c",
        "id": "E2MqwVYH-sKO"
      }
    },
    {
      "cell_type": "code",
      "source": [
        "from sklearn.cross_validation import cross_val_score\n",
        "svc=SVC(kernel='linear',C=0.1)\n",
        "scores = cross_val_score(svc, X, y, cv=10, scoring='accuracy')\n",
        "print(scores)"
      ],
      "metadata": {
        "_cell_guid": "4b9e8e3f-2861-ed79-d48f-ca71c9264165",
        "trusted": true,
        "execution": {
          "iopub.status.busy": "2024-11-24T06:50:31.251777Z",
          "iopub.status.idle": "2024-11-24T06:50:31.252265Z",
          "shell.execute_reply.started": "2024-11-24T06:50:31.252022Z",
          "shell.execute_reply": "2024-11-24T06:50:31.25205Z"
        },
        "id": "d8v-QJEa-sKO"
      },
      "outputs": [],
      "execution_count": null
    },
    {
      "cell_type": "markdown",
      "source": [
        "Taking the mean of all the scores"
      ],
      "metadata": {
        "_cell_guid": "daad2a8a-c37f-86b7-9120-8fb3a67cdc38",
        "id": "EeSI4W3w-sKO"
      }
    },
    {
      "cell_type": "code",
      "source": [
        "print(scores.mean())"
      ],
      "metadata": {
        "_cell_guid": "57b5946d-b6b8-b758-9570-b855ebaa6bd2",
        "trusted": true,
        "execution": {
          "iopub.status.busy": "2024-11-24T06:50:31.254231Z",
          "iopub.status.idle": "2024-11-24T06:50:31.254672Z",
          "shell.execute_reply.started": "2024-11-24T06:50:31.254449Z",
          "shell.execute_reply": "2024-11-24T06:50:31.254469Z"
        },
        "id": "rYSrDVDP-sKP"
      },
      "outputs": [],
      "execution_count": null
    },
    {
      "cell_type": "markdown",
      "source": [
        "The accuracy is slightly good without K-fold cross validation but it may fail to generalise the unseen data.Hence it is advisable to perform K-fold cross validation where all the data is covered so it may predict unseen data well."
      ],
      "metadata": {
        "_cell_guid": "76ec14cd-f216-6179-063e-8ec211daa46c",
        "id": "KKFGikBq-sKP"
      }
    },
    {
      "cell_type": "markdown",
      "source": [
        "# Now performing SVM by taking hyperparameter gamma=0.01 and kernel as rbf"
      ],
      "metadata": {
        "_cell_guid": "d8887f84-1f58-63f5-a35e-6423e816105a",
        "id": "WEYBG3LS-sKP"
      }
    },
    {
      "cell_type": "code",
      "source": [
        "from sklearn.svm import SVC\n",
        "svc= SVC(kernel='rbf',gamma=0.01)\n",
        "svc.fit(X_train,y_train)\n",
        "y_predict=svc.predict(X_test)\n",
        "metrics.accuracy_score(y_test,y_predict)"
      ],
      "metadata": {
        "_cell_guid": "dc42218a-35a1-bd50-032a-fffd67b4772c",
        "trusted": true,
        "execution": {
          "iopub.status.busy": "2024-11-24T06:50:31.256316Z",
          "iopub.status.idle": "2024-11-24T06:50:31.256735Z",
          "shell.execute_reply.started": "2024-11-24T06:50:31.256549Z",
          "shell.execute_reply": "2024-11-24T06:50:31.25657Z"
        },
        "id": "f9uko5B5-sKP"
      },
      "outputs": [],
      "execution_count": null
    },
    {
      "cell_type": "markdown",
      "source": [
        "# With K-fold cross validation(where K=10)"
      ],
      "metadata": {
        "_cell_guid": "e0b485e2-4ea3-ed6d-ece1-d29cda102038",
        "id": "C4vd3bM2-sKP"
      }
    },
    {
      "cell_type": "code",
      "source": [
        "svc=SVC(kernel='linear',gamma=0.01)\n",
        "scores = cross_val_score(svc, X, y, cv=10, scoring='accuracy')\n",
        "print(scores)\n",
        "print(scores.mean())"
      ],
      "metadata": {
        "_cell_guid": "e3baf72f-df6a-f4a0-029e-5c5dcd0aa726",
        "trusted": true,
        "execution": {
          "iopub.status.busy": "2024-11-24T06:50:31.257838Z",
          "iopub.status.idle": "2024-11-24T06:50:31.258276Z",
          "shell.execute_reply.started": "2024-11-24T06:50:31.258048Z",
          "shell.execute_reply": "2024-11-24T06:50:31.258073Z"
        },
        "id": "lVKIqVL8-sKP"
      },
      "outputs": [],
      "execution_count": null
    },
    {
      "cell_type": "markdown",
      "source": [
        "# Now performing SVM by taking hyperparameter degree=3 and kernel as poly"
      ],
      "metadata": {
        "_cell_guid": "b35afce0-4274-e96f-66f8-89a57fbc0d30",
        "id": "1xOoRmZg-sKQ"
      }
    },
    {
      "cell_type": "code",
      "source": [
        "from sklearn.svm import SVC\n",
        "svc= SVC(kernel='poly',degree=3)\n",
        "svc.fit(X_train,y_train)\n",
        "y_predict=svc.predict(X_test)\n",
        "accuracy_score= metrics.accuracy_score(y_test,y_predict)\n",
        "print(accuracy_score)"
      ],
      "metadata": {
        "_cell_guid": "1c4402fd-f477-c7cb-044f-4164afac973f",
        "trusted": true,
        "execution": {
          "iopub.status.busy": "2024-11-24T06:50:31.260277Z",
          "iopub.status.idle": "2024-11-24T06:50:31.260814Z",
          "shell.execute_reply.started": "2024-11-24T06:50:31.26055Z",
          "shell.execute_reply": "2024-11-24T06:50:31.260578Z"
        },
        "id": "drUwTzTk-sKQ"
      },
      "outputs": [],
      "execution_count": null
    },
    {
      "cell_type": "markdown",
      "source": [
        "# With K-fold cross validation(where K=10)"
      ],
      "metadata": {
        "_cell_guid": "1ef380ed-2e09-a0f8-3831-140df751f299",
        "id": "ohZLYjQb-sKQ"
      }
    },
    {
      "cell_type": "code",
      "source": [
        "svc=SVC(kernel='poly',degree=3)\n",
        "scores = cross_val_score(svc, X, y, cv=10, scoring='accuracy')\n",
        "print(scores)\n",
        "print(scores.mean())"
      ],
      "metadata": {
        "_cell_guid": "0327e745-ab33-23a2-db23-04cd62d5267c",
        "trusted": true,
        "execution": {
          "iopub.status.busy": "2024-11-24T06:50:31.264274Z",
          "iopub.status.idle": "2024-11-24T06:50:31.264864Z",
          "shell.execute_reply.started": "2024-11-24T06:50:31.264586Z",
          "shell.execute_reply": "2024-11-24T06:50:31.264616Z"
        },
        "id": "hntYjtNI-sKQ"
      },
      "outputs": [],
      "execution_count": null
    },
    {
      "cell_type": "markdown",
      "source": [
        "#Let us perform Grid search technique to find the best parameter"
      ],
      "metadata": {
        "_cell_guid": "3a81d277-41ee-f387-0745-1aba41754f40",
        "id": "vxp40mtq-sKQ"
      }
    },
    {
      "cell_type": "code",
      "source": [
        "from sklearn.svm import SVC\n",
        "svm_model= SVC()"
      ],
      "metadata": {
        "_cell_guid": "fd5a4e22-4b4e-691b-81dd-298d6985e0b9",
        "trusted": true,
        "execution": {
          "iopub.status.busy": "2024-11-24T06:50:31.265962Z",
          "iopub.status.idle": "2024-11-24T06:50:31.266564Z",
          "shell.execute_reply.started": "2024-11-24T06:50:31.26626Z",
          "shell.execute_reply": "2024-11-24T06:50:31.26629Z"
        },
        "id": "PTbd0HXj-sKR"
      },
      "outputs": [],
      "execution_count": null
    },
    {
      "cell_type": "code",
      "source": [
        "tuned_parameters = {\n",
        " 'C': (np.arange(0.1,1,0.1)) , 'kernel': ['linear'],\n",
        " 'C': (np.arange(0.1,1,0.1)) , 'gamma': [0.01,0.02,0.03,0.04,0.05], 'kernel': ['rbf'],\n",
        " 'degree': [2,3,4] ,'gamma':[0.01,0.02,0.03,0.04,0.05], 'C':(np.arange(0.1,1,0.1)) , 'kernel':['poly']\n",
        "                   }"
      ],
      "metadata": {
        "_cell_guid": "0192d0ba-9dad-7c1d-546d-ebe6be61a6a0",
        "trusted": true,
        "execution": {
          "iopub.status.busy": "2024-11-24T06:50:31.268108Z",
          "iopub.status.idle": "2024-11-24T06:50:31.268672Z",
          "shell.execute_reply.started": "2024-11-24T06:50:31.268376Z",
          "shell.execute_reply": "2024-11-24T06:50:31.268404Z"
        },
        "id": "WKJzsRA9-sKR"
      },
      "outputs": [],
      "execution_count": null
    },
    {
      "cell_type": "code",
      "source": [
        "from sklearn.grid_search import GridSearchCV\n",
        "\n",
        "model_svm = GridSearchCV(svm_model, tuned_parameters,cv=10,scoring='accuracy')"
      ],
      "metadata": {
        "_cell_guid": "2b5f7459-74de-d88c-08c1-70418281b77c",
        "trusted": true,
        "execution": {
          "iopub.status.busy": "2024-11-24T06:50:31.271504Z",
          "iopub.status.idle": "2024-11-24T06:50:31.272101Z",
          "shell.execute_reply.started": "2024-11-24T06:50:31.27181Z",
          "shell.execute_reply": "2024-11-24T06:50:31.271841Z"
        },
        "id": "z90UcCyz-sKR"
      },
      "outputs": [],
      "execution_count": null
    },
    {
      "cell_type": "code",
      "source": [
        "model_svm.fit(X_train, y_train)\n",
        "print(model_svm.best_score_)"
      ],
      "metadata": {
        "_cell_guid": "54e69fea-2b9d-5084-35c7-f2e24d36cb5a",
        "trusted": true,
        "execution": {
          "iopub.status.busy": "2024-11-24T06:50:31.27412Z",
          "iopub.status.idle": "2024-11-24T06:50:31.274698Z",
          "shell.execute_reply.started": "2024-11-24T06:50:31.274396Z",
          "shell.execute_reply": "2024-11-24T06:50:31.274423Z"
        },
        "id": "E8j02K6M-sKR"
      },
      "outputs": [],
      "execution_count": null
    },
    {
      "cell_type": "code",
      "source": [
        "#print(model_svm.grid_scores_)"
      ],
      "metadata": {
        "_cell_guid": "52a1103d-a5e9-34fc-e830-077b5a7e2d9f",
        "trusted": true,
        "execution": {
          "iopub.status.busy": "2024-11-24T06:50:31.276716Z",
          "iopub.status.idle": "2024-11-24T06:50:31.277265Z",
          "shell.execute_reply.started": "2024-11-24T06:50:31.276992Z",
          "shell.execute_reply": "2024-11-24T06:50:31.277017Z"
        },
        "id": "Mq0PNg-S-sKR"
      },
      "outputs": [],
      "execution_count": null
    },
    {
      "cell_type": "code",
      "source": [
        "print(model_svm.best_params_)"
      ],
      "metadata": {
        "_cell_guid": "e2cb91d1-5bea-4f53-a7e0-a1ad2c966b81",
        "trusted": true,
        "execution": {
          "iopub.status.busy": "2024-11-24T06:50:31.280366Z",
          "iopub.status.idle": "2024-11-24T06:50:31.28098Z",
          "shell.execute_reply.started": "2024-11-24T06:50:31.280696Z",
          "shell.execute_reply": "2024-11-24T06:50:31.280725Z"
        },
        "id": "Pnuz8Rt6-sKS"
      },
      "outputs": [],
      "execution_count": null
    },
    {
      "cell_type": "code",
      "source": [
        "y_pred= model_svm.predict(X_test)\n",
        "print(metrics.accuracy_score(y_pred,y_test))"
      ],
      "metadata": {
        "_cell_guid": "af4b757d-2dea-8976-4141-d6f670524fe3",
        "trusted": true,
        "execution": {
          "iopub.status.busy": "2024-11-24T06:50:31.283171Z",
          "iopub.status.idle": "2024-11-24T06:50:31.283761Z",
          "shell.execute_reply.started": "2024-11-24T06:50:31.283457Z",
          "shell.execute_reply": "2024-11-24T06:50:31.283497Z"
        },
        "id": "SyNULPmU-sKS"
      },
      "outputs": [],
      "execution_count": null
    },
    {
      "cell_type": "markdown",
      "source": [
        "You can find my notebook on Github:\n",
        "(\"https://github.com/nirajvermafcb/Data-Science-with-python\")"
      ],
      "metadata": {
        "_cell_guid": "b7011956-298d-22ed-976c-2ffbf6954dd8",
        "id": "oqYSDHJv-sKS"
      }
    }
  ]
}